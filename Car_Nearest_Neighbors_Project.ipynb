{
  "nbformat": 4,
  "nbformat_minor": 0,
  "metadata": {
    "colab": {
      "name": "Car Nearest Neighbors Project",
      "provenance": [],
      "collapsed_sections": []
    },
    "kernelspec": {
      "name": "python3",
      "display_name": "Python 3"
    }
  },
  "cells": [
    {
      "cell_type": "code",
      "metadata": {
        "id": "h2m7FFPtBDfk",
        "colab_type": "code",
        "colab": {}
      },
      "source": [
        "import pandas as pd\n",
        "from sklearn import preprocessing\n",
        "from sklearn import linear_model, preprocessing\n",
        "import matplotlib.pyplot as plt\n",
        "from sklearn.neighbors import KNeighborsClassifier\n",
        "import sklearn\n",
        "import numpy as np\n",
        "import matplotlib.pyplot as plt\n",
        "\n",
        "data = pd.read_csv(\"car.data\")\n",
        "modelData = pd.DataFrame(columns=['buying','maint','doors','persons','lug_boot','safety'])\n",
        "\n",
        "le = preprocessing.LabelEncoder()\n",
        "\n",
        "modelData['buying'] = le.fit_transform(data['buying'])\n",
        "modelData['maint'] = le.fit_transform(data['maint'])\n",
        "modelData['doors'] = le.fit_transform(data['doors'])\n",
        "modelData['persons'] = le.fit_transform(data['persons'])\n",
        "modelData['lug_boot'] = le.fit_transform(data['lug_boot'])\n",
        "modelData['safety'] = le.fit_transform(data['safety'])\n",
        "Y = le.fit_transform(data['class'])"
      ],
      "execution_count": 66,
      "outputs": []
    },
    {
      "cell_type": "code",
      "metadata": {
        "id": "pVldKiwVoA_u",
        "colab_type": "code",
        "colab": {
          "base_uri": "https://localhost:8080/",
          "height": 34
        },
        "outputId": "dfdf2aea-2041-452b-c9c3-c6a6eabb74e7"
      },
      "source": [
        "X = list(zip(modelData['buying'],modelData['maint'],modelData['doors'],modelData['persons'],modelData['lug_boot'],modelData['safety']))\n",
        "x_train,x_test,y_train,y_test = sklearn.model_selection.train_test_split(X,Y,test_size=0.1)\n",
        "\n",
        "model = KNeighborsClassifier(n_neighbors=9)\n",
        "model.fit(x_train, y_train)\n",
        "accuracy = model.score(x_test,y_test)\n",
        "print(accuracy)"
      ],
      "execution_count": 140,
      "outputs": [
        {
          "output_type": "stream",
          "text": [
            "0.9132947976878613\n"
          ],
          "name": "stdout"
        }
      ]
    },
    {
      "cell_type": "code",
      "metadata": {
        "id": "vMrf7MP1oEUP",
        "colab_type": "code",
        "colab": {
          "base_uri": "https://localhost:8080/",
          "height": 54
        },
        "outputId": "acacf94e-ac5a-4feb-c9e0-abe6d1a79b06"
      },
      "source": [
        "predicted = model.predict(x_test)\n",
        "names = [\"unacceptable\", \"acceptable\", \"good\", \"very good\"]\n",
        "\n",
        "for x in range(len(predicted)):\n",
        "    print(\"Data: \", x_test[x],\"Predicted: \", names[predicted[x]],\"Actual: \", names[y_test[x]])"
      ],
      "execution_count": 68,
      "outputs": [
        {
          "output_type": "stream",
          "text": [
            "[(2, 1, 0, 2, 1, 0), (3, 0, 0, 0, 2, 1), (0, 3, 3, 2, 1, 2), (2, 3, 1, 2, 1, 2), (0, 0, 2, 0, 1, 0), (2, 2, 2, 0, 2, 0), (1, 3, 0, 1, 0, 2), (1, 2, 1, 0, 0, 0), (3, 1, 2, 0, 0, 0), (0, 2, 0, 1, 1, 0), (3, 1, 1, 0, 2, 1), (2, 2, 2, 0, 0, 1), (1, 3, 3, 0, 1, 2), (1, 3, 2, 2, 0, 1), (3, 3, 0, 2, 2, 2), (1, 3, 2, 0, 0, 2), (0, 3, 2, 2, 0, 1), (3, 0, 1, 1, 1, 2), (2, 2, 3, 1, 0, 0), (2, 1, 0, 2, 0, 1), (3, 0, 2, 1, 2, 2), (2, 1, 2, 2, 2, 2), (1, 1, 3, 1, 2, 1), (1, 0, 2, 2, 2, 2), (0, 2, 0, 1, 0, 1), (1, 0, 1, 0, 0, 2), (3, 1, 3, 1, 1, 0), (3, 1, 1, 2, 0, 2), (2, 1, 2, 1, 0, 0), (0, 0, 3, 1, 1, 1), (0, 1, 3, 2, 2, 0), (2, 2, 1, 2, 2, 0), (1, 3, 1, 2, 1, 0), (2, 3, 1, 0, 0, 2), (2, 0, 3, 1, 0, 2), (1, 2, 0, 2, 1, 0), (2, 2, 3, 2, 0, 2), (3, 1, 1, 0, 1, 2), (1, 0, 1, 2, 1, 2), (0, 1, 2, 0, 1, 1), (1, 3, 2, 2, 1, 2), (0, 2, 3, 0, 0, 0), (1, 1, 1, 1, 2, 2), (0, 0, 0, 1, 1, 0), (2, 0, 3, 2, 1, 2), (2, 2, 0, 2, 1, 2), (3, 3, 1, 2, 0, 2), (0, 3, 3, 0, 1, 0), (0, 3, 2, 1, 1, 2), (0, 2, 0, 1, 1, 2), (0, 2, 3, 2, 2, 0), (2, 1, 1, 2, 2, 1), (0, 1, 3, 1, 1, 1), (2, 3, 2, 0, 0, 0), (1, 0, 0, 2, 0, 2), (0, 3, 1, 1, 0, 0), (2, 0, 1, 2, 1, 1), (0, 0, 0, 2, 1, 2), (2, 1, 2, 0, 2, 0), (3, 3, 2, 0, 0, 0), (2, 3, 0, 1, 1, 0), (3, 1, 0, 2, 0, 1), (3, 2, 3, 2, 2, 1), (0, 1, 2, 0, 0, 2), (1, 1, 3, 2, 2, 2), (3, 3, 1, 2, 2, 1), (0, 1, 0, 2, 1, 1), (0, 3, 2, 0, 0, 1), (2, 1, 3, 1, 1, 1), (1, 2, 0, 1, 1, 2), (1, 3, 0, 0, 1, 0), (0, 3, 1, 0, 2, 1), (0, 0, 0, 2, 1, 1), (2, 0, 2, 0, 1, 1), (3, 3, 0, 1, 1, 1), (1, 1, 3, 0, 1, 2), (1, 1, 3, 0, 1, 0), (3, 2, 3, 1, 1, 1), (1, 2, 3, 0, 0, 1), (0, 1, 2, 1, 2, 1), (2, 2, 3, 0, 0, 2), (3, 3, 2, 0, 1, 2), (3, 0, 3, 2, 1, 0), (2, 2, 0, 2, 0, 1), (0, 3, 0, 2, 0, 1), (0, 1, 0, 1, 0, 2), (2, 2, 1, 1, 2, 2), (2, 2, 3, 1, 1, 0), (3, 2, 1, 2, 0, 0), (1, 3, 0, 2, 1, 0), (3, 0, 0, 0, 1, 2), (2, 3, 0, 1, 0, 1), (2, 2, 2, 2, 1, 2), (1, 1, 2, 1, 0, 2), (1, 1, 2, 2, 1, 2), (3, 1, 3, 1, 0, 0), (1, 1, 1, 2, 0, 2), (2, 3, 3, 1, 2, 2), (2, 1, 3, 2, 2, 0), (2, 0, 3, 2, 1, 0), (1, 0, 3, 0, 0, 1), (2, 0, 2, 1, 2, 2), (1, 3, 2, 2, 1, 1), (1, 0, 1, 0, 0, 1), (3, 2, 0, 2, 2, 2), (1, 1, 2, 0, 2, 1), (0, 2, 1, 2, 1, 1), (3, 3, 2, 2, 2, 0), (1, 2, 1, 0, 2, 0), (1, 3, 1, 1, 0, 1), (2, 3, 0, 0, 0, 2), (2, 2, 2, 1, 0, 1), (3, 1, 1, 2, 2, 1), (3, 2, 0, 1, 1, 0), (1, 1, 2, 0, 1, 1), (2, 0, 3, 0, 2, 2), (1, 3, 3, 1, 0, 2), (2, 3, 0, 1, 0, 0), (0, 1, 0, 0, 0, 2), (3, 2, 1, 0, 0, 2), (1, 2, 3, 0, 2, 0), (3, 0, 3, 2, 2, 0), (3, 2, 1, 1, 2, 1), (1, 2, 1, 0, 2, 2), (1, 1, 0, 1, 1, 1), (1, 1, 3, 0, 0, 2), (2, 3, 1, 2, 0, 1), (0, 2, 1, 0, 0, 2), (1, 1, 0, 0, 1, 2), (1, 3, 3, 1, 1, 2), (3, 0, 2, 0, 0, 2), (0, 0, 1, 0, 2, 2), (1, 0, 2, 1, 1, 0), (0, 0, 3, 2, 2, 1), (2, 3, 3, 2, 2, 2), (1, 0, 2, 2, 1, 0), (0, 0, 1, 1, 0, 0), (3, 1, 0, 0, 1, 1), (1, 2, 2, 2, 1, 0), (0, 1, 3, 1, 1, 2), (2, 1, 2, 2, 1, 0), (0, 3, 3, 1, 1, 2), (2, 2, 1, 2, 1, 2), (2, 0, 3, 1, 1, 2), (3, 3, 1, 0, 1, 1), (0, 2, 1, 0, 1, 2), (2, 1, 3, 2, 1, 1), (3, 1, 2, 2, 2, 2), (2, 0, 1, 2, 1, 2), (2, 2, 3, 2, 1, 2), (2, 3, 1, 1, 2, 0), (2, 0, 2, 0, 0, 1), (2, 2, 2, 1, 1, 0), (1, 2, 1, 2, 0, 1), (0, 0, 0, 1, 2, 2), (1, 1, 1, 2, 1, 2), (1, 2, 0, 2, 0, 0), (0, 1, 1, 2, 1, 1), (3, 3, 2, 0, 1, 0), (3, 0, 0, 2, 0, 1), (1, 1, 2, 2, 1, 1), (1, 2, 3, 2, 1, 2), (0, 2, 0, 2, 1, 1), (1, 1, 0, 0, 2, 0), (3, 1, 0, 2, 1, 0), (3, 1, 0, 0, 0, 0), (0, 2, 1, 0, 2, 0), (1, 1, 0, 1, 2, 1), (2, 0, 0, 2, 2, 0), (1, 3, 0, 1, 0, 1), (0, 0, 3, 0, 2, 2), (3, 1, 1, 2, 0, 1), (1, 3, 1, 1, 1, 2)]\n"
          ],
          "name": "stdout"
        }
      ]
    },
    {
      "cell_type": "code",
      "metadata": {
        "id": "KKt6ihVUp3Oz",
        "colab_type": "code",
        "colab": {
          "base_uri": "https://localhost:8080/",
          "height": 279
        },
        "outputId": "10f7bc1b-1989-40ae-d130-3aa2aab9e616"
      },
      "source": [
        "namesColor = [\"ro\", \"yo\", \"bo\", \"go\"]\n",
        "holder = 0\n",
        "counter = 0\n",
        "previousCounter = 0\n",
        "holder = 0\n",
        "\n",
        "for x in range(len(modelData['safety'])):\n",
        "  for y in range(4):\n",
        "    if counter > previousCounter:\n",
        "      previousCounter = counter\n",
        "      holder = y\n",
        "    if model.predict([(modelData['buying'][x],modelData['maint'][x],modelData['doors'][x],modelData['persons'][x],modelData['lug_boot'][x],modelData['safety'][x])])[0]==y:\n",
        "      counter += 1\n",
        "  plt.plot(modelData['safety'][x], Y[x], namesColor[holder])\n",
        "  plt.xlabel(\"Safety\")\n",
        "  plt.ylabel(\"Class\")"
      ],
      "execution_count": 69,
      "outputs": [
        {
          "output_type": "display_data",
          "data": {
            "image/png": "[encoded data removed]",
            "text/plain": [
              "<Figure size 432x288 with 1 Axes>"
            ]
          },
          "metadata": {
            "tags": [],
            "needs_background": "light"
          }
        }
      ]
    },
    {
      "cell_type": "code",
      "metadata": {
        "id": "Ney5twyBANDF",
        "colab_type": "code",
        "colab": {
          "base_uri": "https://localhost:8080/",
          "height": 34
        },
        "outputId": "39574e63-0ba3-43bb-be11-fb753664d054"
      },
      "source": [
        "#buying: vhigh, high, med, low.\n",
        "#maint: vhigh, high, med, low.\n",
        "#doors: 2, 3, 4, 5more.\n",
        "#persons: 2, 4, more.\n",
        "#lug_boot: small, med, big.\n",
        "#safety: low, med, high.\n",
        "print(names[model.predict([(3,3,1,0,1,2)])[0]])"
      ],
      "execution_count": 70,
      "outputs": [
        {
          "output_type": "stream",
          "text": [
            "good\n"
          ],
          "name": "stdout"
        }
      ]
    }
  ]
}
